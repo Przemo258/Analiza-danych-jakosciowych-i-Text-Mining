{
 "cells": [
  {
   "cell_type": "markdown",
   "source": [
    "# Setup"
   ],
   "metadata": {
    "collapsed": false
   }
  },
  {
   "cell_type": "code",
   "execution_count": 42,
   "outputs": [],
   "source": [
    "import matplotlib.pyplot as plt\n",
    "import pandas as pd\n",
    "import spacy\n",
    "import tqdm\n",
    "from transformers import pipeline"
   ],
   "metadata": {
    "collapsed": false,
    "ExecuteTime": {
     "end_time": "2023-05-15T15:13:11.579294500Z",
     "start_time": "2023-05-15T15:13:11.551294900Z"
    }
   }
  },
  {
   "cell_type": "code",
   "execution_count": 43,
   "outputs": [
    {
     "data": {
      "text/plain": "     Category                                            Message\n0         ham  Go until jurong point, crazy.. Available only ...\n1         ham                      Ok lar... Joking wif u oni...\n2        spam  Free entry in 2 a wkly comp to win FA Cup fina...\n3         ham  U dun say so early hor... U c already then say...\n4         ham  Nah I don't think he goes to usf, he lives aro...\n...       ...                                                ...\n5567     spam  This is the 2nd time we have tried 2 contact u...\n5568      ham               Will ü b going to esplanade fr home?\n5569      ham  Pity, * was in mood for that. So...any other s...\n5570      ham  The guy did some bitching but I acted like i'd...\n5571      ham                         Rofl. Its true to its name\n\n[5572 rows x 2 columns]",
      "text/html": "<div>\n<style scoped>\n    .dataframe tbody tr th:only-of-type {\n        vertical-align: middle;\n    }\n\n    .dataframe tbody tr th {\n        vertical-align: top;\n    }\n\n    .dataframe thead th {\n        text-align: right;\n    }\n</style>\n<table border=\"1\" class=\"dataframe\">\n  <thead>\n    <tr style=\"text-align: right;\">\n      <th></th>\n      <th>Category</th>\n      <th>Message</th>\n    </tr>\n  </thead>\n  <tbody>\n    <tr>\n      <th>0</th>\n      <td>ham</td>\n      <td>Go until jurong point, crazy.. Available only ...</td>\n    </tr>\n    <tr>\n      <th>1</th>\n      <td>ham</td>\n      <td>Ok lar... Joking wif u oni...</td>\n    </tr>\n    <tr>\n      <th>2</th>\n      <td>spam</td>\n      <td>Free entry in 2 a wkly comp to win FA Cup fina...</td>\n    </tr>\n    <tr>\n      <th>3</th>\n      <td>ham</td>\n      <td>U dun say so early hor... U c already then say...</td>\n    </tr>\n    <tr>\n      <th>4</th>\n      <td>ham</td>\n      <td>Nah I don't think he goes to usf, he lives aro...</td>\n    </tr>\n    <tr>\n      <th>...</th>\n      <td>...</td>\n      <td>...</td>\n    </tr>\n    <tr>\n      <th>5567</th>\n      <td>spam</td>\n      <td>This is the 2nd time we have tried 2 contact u...</td>\n    </tr>\n    <tr>\n      <th>5568</th>\n      <td>ham</td>\n      <td>Will ü b going to esplanade fr home?</td>\n    </tr>\n    <tr>\n      <th>5569</th>\n      <td>ham</td>\n      <td>Pity, * was in mood for that. So...any other s...</td>\n    </tr>\n    <tr>\n      <th>5570</th>\n      <td>ham</td>\n      <td>The guy did some bitching but I acted like i'd...</td>\n    </tr>\n    <tr>\n      <th>5571</th>\n      <td>ham</td>\n      <td>Rofl. Its true to its name</td>\n    </tr>\n  </tbody>\n</table>\n<p>5572 rows × 2 columns</p>\n</div>"
     },
     "execution_count": 43,
     "metadata": {},
     "output_type": "execute_result"
    }
   ],
   "source": [
    "df = pd.read_csv('SPAM.csv')\n",
    "df"
   ],
   "metadata": {
    "collapsed": false,
    "ExecuteTime": {
     "end_time": "2023-05-15T15:13:11.620293400Z",
     "start_time": "2023-05-15T15:13:11.558294700Z"
    }
   }
  },
  {
   "cell_type": "code",
   "execution_count": 44,
   "outputs": [],
   "source": [
    "nlp = spacy.load('en_core_web_sm')"
   ],
   "metadata": {
    "collapsed": false,
    "ExecuteTime": {
     "end_time": "2023-05-15T15:13:12.125292400Z",
     "start_time": "2023-05-15T15:13:11.589297800Z"
    }
   }
  },
  {
   "cell_type": "code",
   "execution_count": 45,
   "outputs": [],
   "source": [
    "def clean(msg: str) -> str:\n",
    "    tmp = msg.lower()\n",
    "    doc = nlp(tmp)\n",
    "    tokens = []\n",
    "    for token in doc:\n",
    "        if token.lemma_ in ['lt;#&gt', '150p', '10p', 't&c', 't&cs']:\n",
    "            continue\n",
    "        if token.is_punct or token.is_stop or token.is_space\\\n",
    "        or token.like_num or token.like_url or token.like_email\\\n",
    "        or token.is_digit:\n",
    "            continue\n",
    "        if len(token.lemma_) <= 1:\n",
    "            continue\n",
    "        tokens.append(token.lemma_)\n",
    "    return \" \".join(tokens)"
   ],
   "metadata": {
    "collapsed": false,
    "ExecuteTime": {
     "end_time": "2023-05-15T15:13:12.127292700Z",
     "start_time": "2023-05-15T15:13:12.073295600Z"
    }
   }
  },
  {
   "cell_type": "code",
   "execution_count": 46,
   "outputs": [],
   "source": [
    "def clean_simple(msg: str) -> str:\n",
    "    tmp = msg.lower()\n",
    "    tmp = tmp.strip()\n",
    "    tmp = tmp.replace('lt;#&gt', '')\n",
    "    tmp = tmp[:128]\n",
    "    return tmp"
   ],
   "metadata": {
    "collapsed": false,
    "ExecuteTime": {
     "end_time": "2023-05-15T15:13:12.127292700Z",
     "start_time": "2023-05-15T15:13:12.125292400Z"
    }
   }
  },
  {
   "cell_type": "code",
   "execution_count": 47,
   "outputs": [],
   "source": [
    "tqdm.tqdm.pandas()"
   ],
   "metadata": {
    "collapsed": false,
    "ExecuteTime": {
     "end_time": "2023-05-15T15:13:12.127292700Z",
     "start_time": "2023-05-15T15:13:12.125292400Z"
    }
   }
  },
  {
   "cell_type": "code",
   "execution_count": 48,
   "outputs": [
    {
     "name": "stderr",
     "output_type": "stream",
     "text": [
      "100%|██████████| 5572/5572 [00:24<00:00, 230.69it/s]\n"
     ]
    }
   ],
   "source": [
    "df['Cleaned'] = df['Message'].progress_apply(clean)"
   ],
   "metadata": {
    "collapsed": false,
    "ExecuteTime": {
     "end_time": "2023-05-15T15:13:36.291223600Z",
     "start_time": "2023-05-15T15:13:12.125292400Z"
    }
   }
  },
  {
   "cell_type": "code",
   "execution_count": 49,
   "outputs": [
    {
     "data": {
      "text/plain": "     Category                                            Message  \\\n0         ham  Go until jurong point, crazy.. Available only ...   \n1         ham                      Ok lar... Joking wif u oni...   \n2        spam  Free entry in 2 a wkly comp to win FA Cup fina...   \n3         ham  U dun say so early hor... U c already then say...   \n4         ham  Nah I don't think he goes to usf, he lives aro...   \n...       ...                                                ...   \n5567     spam  This is the 2nd time we have tried 2 contact u...   \n5568      ham               Will ü b going to esplanade fr home?   \n5569      ham  Pity, * was in mood for that. So...any other s...   \n5570      ham  The guy did some bitching but I acted like i'd...   \n5571      ham                         Rofl. Its true to its name   \n\n                                                Cleaned  \n0     jurong point crazy available bugis great world...  \n1                                   ok lar joke wif oni  \n2     free entry wkly comp win fa cup final tkts tex...  \n3                                         dun early hor  \n4                                 nah think go usf live  \n...                                                 ...  \n5567  time try contact u. win pound prize claim easy...  \n5568                               go esplanade fr home  \n5569                               pity mood suggestion  \n5570  guy bitching act like interested buy week give...  \n5571                                          rofl true  \n\n[5572 rows x 3 columns]",
      "text/html": "<div>\n<style scoped>\n    .dataframe tbody tr th:only-of-type {\n        vertical-align: middle;\n    }\n\n    .dataframe tbody tr th {\n        vertical-align: top;\n    }\n\n    .dataframe thead th {\n        text-align: right;\n    }\n</style>\n<table border=\"1\" class=\"dataframe\">\n  <thead>\n    <tr style=\"text-align: right;\">\n      <th></th>\n      <th>Category</th>\n      <th>Message</th>\n      <th>Cleaned</th>\n    </tr>\n  </thead>\n  <tbody>\n    <tr>\n      <th>0</th>\n      <td>ham</td>\n      <td>Go until jurong point, crazy.. Available only ...</td>\n      <td>jurong point crazy available bugis great world...</td>\n    </tr>\n    <tr>\n      <th>1</th>\n      <td>ham</td>\n      <td>Ok lar... Joking wif u oni...</td>\n      <td>ok lar joke wif oni</td>\n    </tr>\n    <tr>\n      <th>2</th>\n      <td>spam</td>\n      <td>Free entry in 2 a wkly comp to win FA Cup fina...</td>\n      <td>free entry wkly comp win fa cup final tkts tex...</td>\n    </tr>\n    <tr>\n      <th>3</th>\n      <td>ham</td>\n      <td>U dun say so early hor... U c already then say...</td>\n      <td>dun early hor</td>\n    </tr>\n    <tr>\n      <th>4</th>\n      <td>ham</td>\n      <td>Nah I don't think he goes to usf, he lives aro...</td>\n      <td>nah think go usf live</td>\n    </tr>\n    <tr>\n      <th>...</th>\n      <td>...</td>\n      <td>...</td>\n      <td>...</td>\n    </tr>\n    <tr>\n      <th>5567</th>\n      <td>spam</td>\n      <td>This is the 2nd time we have tried 2 contact u...</td>\n      <td>time try contact u. win pound prize claim easy...</td>\n    </tr>\n    <tr>\n      <th>5568</th>\n      <td>ham</td>\n      <td>Will ü b going to esplanade fr home?</td>\n      <td>go esplanade fr home</td>\n    </tr>\n    <tr>\n      <th>5569</th>\n      <td>ham</td>\n      <td>Pity, * was in mood for that. So...any other s...</td>\n      <td>pity mood suggestion</td>\n    </tr>\n    <tr>\n      <th>5570</th>\n      <td>ham</td>\n      <td>The guy did some bitching but I acted like i'd...</td>\n      <td>guy bitching act like interested buy week give...</td>\n    </tr>\n    <tr>\n      <th>5571</th>\n      <td>ham</td>\n      <td>Rofl. Its true to its name</td>\n      <td>rofl true</td>\n    </tr>\n  </tbody>\n</table>\n<p>5572 rows × 3 columns</p>\n</div>"
     },
     "execution_count": 49,
     "metadata": {},
     "output_type": "execute_result"
    }
   ],
   "source": [
    "df"
   ],
   "metadata": {
    "collapsed": false,
    "ExecuteTime": {
     "end_time": "2023-05-15T15:13:36.318231700Z",
     "start_time": "2023-05-15T15:13:36.292300300Z"
    }
   }
  },
  {
   "cell_type": "markdown",
   "source": [
    "# Analiza sentymentu"
   ],
   "metadata": {
    "collapsed": false
   }
  },
  {
   "cell_type": "code",
   "execution_count": 50,
   "outputs": [],
   "source": [
    "sentiment = pipeline('sentiment-analysis', model='finiteautomata/bertweet-base-sentiment-analysis')"
   ],
   "metadata": {
    "collapsed": false,
    "ExecuteTime": {
     "end_time": "2023-05-15T15:13:37.634190500Z",
     "start_time": "2023-05-15T15:13:36.307231500Z"
    }
   }
  },
  {
   "cell_type": "code",
   "execution_count": 51,
   "outputs": [
    {
     "name": "stderr",
     "output_type": "stream",
     "text": [
      "100%|██████████| 5572/5572 [03:04<00:00, 30.18it/s]\n"
     ]
    }
   ],
   "source": [
    "tmp = df['Cleaned'].progress_apply(lambda x: sentiment(x)[0])\n",
    "tmp = tmp.apply(pd.Series)\n",
    "df = pd.concat([df, tmp], axis=1)"
   ],
   "metadata": {
    "collapsed": false,
    "ExecuteTime": {
     "end_time": "2023-05-15T15:16:43.282471800Z",
     "start_time": "2023-05-15T15:13:37.636899200Z"
    }
   }
  },
  {
   "cell_type": "code",
   "execution_count": 52,
   "outputs": [
    {
     "data": {
      "text/plain": "     Category                                            Message  \\\n0         ham  Go until jurong point, crazy.. Available only ...   \n1         ham                      Ok lar... Joking wif u oni...   \n2        spam  Free entry in 2 a wkly comp to win FA Cup fina...   \n3         ham  U dun say so early hor... U c already then say...   \n4         ham  Nah I don't think he goes to usf, he lives aro...   \n...       ...                                                ...   \n5567     spam  This is the 2nd time we have tried 2 contact u...   \n5568      ham               Will ü b going to esplanade fr home?   \n5569      ham  Pity, * was in mood for that. So...any other s...   \n5570      ham  The guy did some bitching but I acted like i'd...   \n5571      ham                         Rofl. Its true to its name   \n\n                                                Cleaned     label     score  \n0     jurong point crazy available bugis great world...   Neutral  0.677291  \n1                                   ok lar joke wif oni   Neutral  0.928279  \n2     free entry wkly comp win fa cup final tkts tex...   Neutral  0.838302  \n3                                         dun early hor   Neutral  0.942619  \n4                                 nah think go usf live   Neutral  0.970514  \n...                                                 ...       ...       ...  \n5567  time try contact u. win pound prize claim easy...   Neutral  0.923742  \n5568                               go esplanade fr home   Neutral  0.966914  \n5569                               pity mood suggestion  Negative  0.639454  \n5570  guy bitching act like interested buy week give...  Negative  0.615731  \n5571                                          rofl true   Neutral  0.681271  \n\n[5572 rows x 5 columns]",
      "text/html": "<div>\n<style scoped>\n    .dataframe tbody tr th:only-of-type {\n        vertical-align: middle;\n    }\n\n    .dataframe tbody tr th {\n        vertical-align: top;\n    }\n\n    .dataframe thead th {\n        text-align: right;\n    }\n</style>\n<table border=\"1\" class=\"dataframe\">\n  <thead>\n    <tr style=\"text-align: right;\">\n      <th></th>\n      <th>Category</th>\n      <th>Message</th>\n      <th>Cleaned</th>\n      <th>label</th>\n      <th>score</th>\n    </tr>\n  </thead>\n  <tbody>\n    <tr>\n      <th>0</th>\n      <td>ham</td>\n      <td>Go until jurong point, crazy.. Available only ...</td>\n      <td>jurong point crazy available bugis great world...</td>\n      <td>Neutral</td>\n      <td>0.677291</td>\n    </tr>\n    <tr>\n      <th>1</th>\n      <td>ham</td>\n      <td>Ok lar... Joking wif u oni...</td>\n      <td>ok lar joke wif oni</td>\n      <td>Neutral</td>\n      <td>0.928279</td>\n    </tr>\n    <tr>\n      <th>2</th>\n      <td>spam</td>\n      <td>Free entry in 2 a wkly comp to win FA Cup fina...</td>\n      <td>free entry wkly comp win fa cup final tkts tex...</td>\n      <td>Neutral</td>\n      <td>0.838302</td>\n    </tr>\n    <tr>\n      <th>3</th>\n      <td>ham</td>\n      <td>U dun say so early hor... U c already then say...</td>\n      <td>dun early hor</td>\n      <td>Neutral</td>\n      <td>0.942619</td>\n    </tr>\n    <tr>\n      <th>4</th>\n      <td>ham</td>\n      <td>Nah I don't think he goes to usf, he lives aro...</td>\n      <td>nah think go usf live</td>\n      <td>Neutral</td>\n      <td>0.970514</td>\n    </tr>\n    <tr>\n      <th>...</th>\n      <td>...</td>\n      <td>...</td>\n      <td>...</td>\n      <td>...</td>\n      <td>...</td>\n    </tr>\n    <tr>\n      <th>5567</th>\n      <td>spam</td>\n      <td>This is the 2nd time we have tried 2 contact u...</td>\n      <td>time try contact u. win pound prize claim easy...</td>\n      <td>Neutral</td>\n      <td>0.923742</td>\n    </tr>\n    <tr>\n      <th>5568</th>\n      <td>ham</td>\n      <td>Will ü b going to esplanade fr home?</td>\n      <td>go esplanade fr home</td>\n      <td>Neutral</td>\n      <td>0.966914</td>\n    </tr>\n    <tr>\n      <th>5569</th>\n      <td>ham</td>\n      <td>Pity, * was in mood for that. So...any other s...</td>\n      <td>pity mood suggestion</td>\n      <td>Negative</td>\n      <td>0.639454</td>\n    </tr>\n    <tr>\n      <th>5570</th>\n      <td>ham</td>\n      <td>The guy did some bitching but I acted like i'd...</td>\n      <td>guy bitching act like interested buy week give...</td>\n      <td>Negative</td>\n      <td>0.615731</td>\n    </tr>\n    <tr>\n      <th>5571</th>\n      <td>ham</td>\n      <td>Rofl. Its true to its name</td>\n      <td>rofl true</td>\n      <td>Neutral</td>\n      <td>0.681271</td>\n    </tr>\n  </tbody>\n</table>\n<p>5572 rows × 5 columns</p>\n</div>"
     },
     "execution_count": 52,
     "metadata": {},
     "output_type": "execute_result"
    }
   ],
   "source": [
    "df['label'].replace({'POS': 'Positive ', 'NEG': \"Negative\", 'NEU': 'Neutral'}, inplace=True)\n",
    "df"
   ],
   "metadata": {
    "collapsed": false,
    "ExecuteTime": {
     "end_time": "2023-05-15T15:16:43.296609Z",
     "start_time": "2023-05-15T15:16:43.283471800Z"
    }
   }
  },
  {
   "cell_type": "code",
   "execution_count": 53,
   "outputs": [
    {
     "data": {
      "text/plain": "Neutral      3910\nPositive     1044\nNegative      618\nName: label, dtype: int64"
     },
     "execution_count": 53,
     "metadata": {},
     "output_type": "execute_result"
    }
   ],
   "source": [
    "df['label'].value_counts()"
   ],
   "metadata": {
    "collapsed": false,
    "ExecuteTime": {
     "end_time": "2023-05-15T15:16:43.330610300Z",
     "start_time": "2023-05-15T15:16:43.298610800Z"
    }
   }
  },
  {
   "cell_type": "code",
   "execution_count": 54,
   "outputs": [
    {
     "name": "stdout",
     "output_type": "stream",
     "text": [
      "Neutral      3910\n",
      "Positive     1044\n",
      "Negative      618\n",
      "Name: label, dtype: int64 \n",
      "\n",
      "Neutral      0.701723\n",
      "Positive     0.187365\n",
      "Negative     0.110912\n",
      "Name: label, dtype: float64\n"
     ]
    }
   ],
   "source": [
    "print(df['label'].value_counts(), '\\n')\n",
    "print(df['label'].value_counts(normalize=True))"
   ],
   "metadata": {
    "collapsed": false,
    "ExecuteTime": {
     "end_time": "2023-05-15T15:16:43.357606600Z",
     "start_time": "2023-05-15T15:16:43.314607200Z"
    }
   }
  },
  {
   "cell_type": "code",
   "execution_count": 55,
   "outputs": [
    {
     "name": "stdout",
     "output_type": "stream",
     "text": [
      "Neutral      3313\n",
      "Positive      907\n",
      "Negative      605\n",
      "Name: label, dtype: int64 \n",
      "\n",
      "Neutral      0.686632\n",
      "Positive     0.187979\n",
      "Negative     0.125389\n",
      "Name: label, dtype: float64\n"
     ]
    }
   ],
   "source": [
    "print(df[df['Category'] == 'ham']['label'].value_counts(), '\\n')\n",
    "print(df[df['Category'] == 'ham']['label'].value_counts(normalize=True))"
   ],
   "metadata": {
    "collapsed": false,
    "ExecuteTime": {
     "end_time": "2023-05-15T15:16:43.393609700Z",
     "start_time": "2023-05-15T15:16:43.329607200Z"
    }
   }
  },
  {
   "cell_type": "code",
   "execution_count": 56,
   "outputs": [
    {
     "name": "stdout",
     "output_type": "stream",
     "text": [
      "Neutral      597\n",
      "Positive     137\n",
      "Negative      13\n",
      "Name: label, dtype: int64 \n",
      "\n",
      "Neutral      0.799197\n",
      "Positive     0.183400\n",
      "Negative     0.017403\n",
      "Name: label, dtype: float64\n"
     ]
    }
   ],
   "source": [
    "print(df[df['Category'] == 'spam']['label'].value_counts(), '\\n')\n",
    "print(df[df['Category'] == 'spam']['label'].value_counts(normalize=True))"
   ],
   "metadata": {
    "collapsed": false,
    "ExecuteTime": {
     "end_time": "2023-05-15T15:16:43.450605600Z",
     "start_time": "2023-05-15T15:16:43.344610500Z"
    }
   }
  },
  {
   "cell_type": "code",
   "execution_count": 57,
   "outputs": [
    {
     "data": {
      "text/plain": "<Figure size 640x480 with 1 Axes>",
      "image/png": "[encoded data removed]"
     },
     "metadata": {},
     "output_type": "display_data"
    }
   ],
   "source": [
    "df['label'].value_counts().plot(kind='bar', color=['blue', 'green', 'red'])\n",
    "plt.title('Wszystkie')\n",
    "plt.xlabel('Nastawienie')\n",
    "plt.xticks(rotation=0)\n",
    "plt.ylabel('Liczba')\n",
    "plt.savefig('sentiment_all.png')\n",
    "plt.show()"
   ],
   "metadata": {
    "collapsed": false,
    "ExecuteTime": {
     "end_time": "2023-05-15T15:16:43.532609100Z",
     "start_time": "2023-05-15T15:16:43.361608600Z"
    }
   }
  },
  {
   "cell_type": "code",
   "execution_count": 58,
   "outputs": [
    {
     "data": {
      "text/plain": "<Figure size 640x480 with 1 Axes>",
      "image/png": "[encoded data removed]"
     },
     "metadata": {},
     "output_type": "display_data"
    }
   ],
   "source": [
    "df[df['Category'] == 'ham']['label'].value_counts().plot(kind='bar', color=['blue', 'green', 'red'])\n",
    "plt.title('Nie spamowe')\n",
    "plt.xlabel('Nastawienie')\n",
    "plt.xticks(rotation=0)\n",
    "plt.ylabel('Liczba')\n",
    "plt.savefig('sentiment_ham.png')\n",
    "plt.show()"
   ],
   "metadata": {
    "collapsed": false,
    "ExecuteTime": {
     "end_time": "2023-05-15T15:16:43.687608100Z",
     "start_time": "2023-05-15T15:16:43.533609700Z"
    }
   }
  },
  {
   "cell_type": "code",
   "execution_count": 59,
   "outputs": [
    {
     "data": {
      "text/plain": "<Figure size 640x480 with 1 Axes>",
      "image/png": "[encoded data removed]"
     },
     "metadata": {},
     "output_type": "display_data"
    }
   ],
   "source": [
    "df[df['Category'] == 'spam']['label'].value_counts().plot(kind='bar', color=['blue', 'green', 'red'])\n",
    "plt.title('Spam')\n",
    "plt.xlabel('Nastawienie')\n",
    "plt.xticks(rotation=0)\n",
    "plt.ylabel('Liczba')\n",
    "plt.savefig('sentiment_spam.png')\n",
    "plt.show()"
   ],
   "metadata": {
    "collapsed": false,
    "ExecuteTime": {
     "end_time": "2023-05-15T15:16:43.839607800Z",
     "start_time": "2023-05-15T15:16:43.689608100Z"
    }
   }
  },
  {
   "cell_type": "code",
   "execution_count": 60,
   "outputs": [
    {
     "data": {
      "text/plain": "count    5572.000000\nmean        0.863997\nstd         0.125770\nmin         0.432964\n25%         0.811541\n50%         0.914824\n75%         0.957399\nmax         0.993003\nName: score, dtype: float64"
     },
     "execution_count": 60,
     "metadata": {},
     "output_type": "execute_result"
    }
   ],
   "source": [
    "df['score'].describe()"
   ],
   "metadata": {
    "collapsed": false,
    "ExecuteTime": {
     "end_time": "2023-05-15T15:16:43.904606800Z",
     "start_time": "2023-05-15T15:16:43.840607100Z"
    }
   }
  },
  {
   "cell_type": "code",
   "execution_count": 61,
   "outputs": [
    {
     "data": {
      "text/plain": "count    4825.000000\nmean        0.864408\nstd         0.125350\nmin         0.432964\n25%         0.813920\n50%         0.914443\n75%         0.956563\nmax         0.993003\nName: score, dtype: float64"
     },
     "execution_count": 61,
     "metadata": {},
     "output_type": "execute_result"
    }
   ],
   "source": [
    "df[df['Category'] == 'ham']['score'].describe()"
   ],
   "metadata": {
    "collapsed": false,
    "ExecuteTime": {
     "end_time": "2023-05-15T15:16:43.905606700Z",
     "start_time": "2023-05-15T15:16:43.857608400Z"
    }
   }
  },
  {
   "cell_type": "code",
   "execution_count": 62,
   "outputs": [
    {
     "data": {
      "text/plain": "count    747.000000\nmean       0.861337\nstd        0.128508\nmin        0.498430\n25%        0.790982\n50%        0.916890\n75%        0.960014\nmax        0.992111\nName: score, dtype: float64"
     },
     "execution_count": 62,
     "metadata": {},
     "output_type": "execute_result"
    }
   ],
   "source": [
    "df[df['Category'] == 'spam']['score'].describe()"
   ],
   "metadata": {
    "collapsed": false,
    "ExecuteTime": {
     "end_time": "2023-05-15T15:16:43.905606700Z",
     "start_time": "2023-05-15T15:16:43.872607300Z"
    }
   }
  },
  {
   "cell_type": "code",
   "execution_count": 63,
   "outputs": [
    {
     "data": {
      "text/plain": "<Figure size 640x480 with 1 Axes>",
      "image/png": "[encoded data removed]"
     },
     "metadata": {},
     "output_type": "display_data"
    }
   ],
   "source": [
    "df['score'].groupby(df['Category']).plot(kind='hist', alpha=0.5, legend=True)\n",
    "plt.title('Poziom pewności modelu')\n",
    "plt.xlabel('Pewność')\n",
    "plt.ylabel('Liczba')\n",
    "plt.show()"
   ],
   "metadata": {
    "collapsed": false,
    "ExecuteTime": {
     "end_time": "2023-05-15T15:16:44.042606600Z",
     "start_time": "2023-05-15T15:16:43.889607200Z"
    }
   }
  }
 ],
 "metadata": {
  "kernelspec": {
   "display_name": "Python 3",
   "language": "python",
   "name": "python3"
  },
  "language_info": {
   "codemirror_mode": {
    "name": "ipython",
    "version": 2
   },
   "file_extension": ".py",
   "mimetype": "text/x-python",
   "name": "python",
   "nbconvert_exporter": "python",
   "pygments_lexer": "ipython2",
   "version": "2.7.6"
  }
 },
 "nbformat": 4,
 "nbformat_minor": 0
}
